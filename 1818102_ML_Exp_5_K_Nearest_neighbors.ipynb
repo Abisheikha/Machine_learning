{
  "nbformat": 4,
  "nbformat_minor": 0,
  "metadata": {
    "colab": {
      "name": "1818102_ML_Exp 5_K-Nearest neighbors.ipynb",
      "provenance": [],
      "collapsed_sections": []
    },
    "kernelspec": {
      "name": "python3",
      "display_name": "Python 3"
    }
  },
  "cells": [
    {
      "cell_type": "markdown",
      "metadata": {
        "id": "M45eo4V4Lj6I"
      },
      "source": [
        "**Write a program to classify data using the K-Nearest neighbors algorithm in Python. Use Breast cancer dataset from the sklearn.datasets module**"
      ]
    },
    {
      "cell_type": "markdown",
      "metadata": {
        "id": "pmrBjqiaMqbU"
      },
      "source": [
        "**Importing libraries and dataset**"
      ]
    },
    {
      "cell_type": "code",
      "metadata": {
        "id": "W7QN3XaXFAcs"
      },
      "source": [
        "import numpy as np\n",
        "from sklearn.datasets import load_breast_cancer\n",
        "data_set = load_breast_cancer()"
      ],
      "execution_count": null,
      "outputs": []
    },
    {
      "cell_type": "markdown",
      "metadata": {
        "id": "RiqPFSClMxaU"
      },
      "source": [
        "**Splitting dataset into training set and testing test**"
      ]
    },
    {
      "cell_type": "code",
      "metadata": {
        "id": "gHwegvvGKaSQ"
      },
      "source": [
        "x=data_set.data\n",
        "y=data_set.target\n",
        "from sklearn.model_selection import train_test_split\n",
        "X_train, X_test, y_train, y_test = train_test_split(x, y,\n",
        "test_size=0.25, random_state=25)"
      ],
      "execution_count": null,
      "outputs": []
    },
    {
      "cell_type": "markdown",
      "metadata": {
        "id": "zcFSKuNzNv02"
      },
      "source": [
        "**Feature Scaling**"
      ]
    },
    {
      "cell_type": "code",
      "metadata": {
        "id": "FoLwt_vtLRuI"
      },
      "source": [
        "from sklearn.preprocessing import StandardScaler\n",
        "sca = StandardScaler()\n",
        "X_train = sca.fit_transform(X_train)\n",
        "X_test = sca.transform(X_test)"
      ],
      "execution_count": null,
      "outputs": []
    },
    {
      "cell_type": "code",
      "metadata": {
        "colab": {
          "base_uri": "https://localhost:8080/"
        },
        "id": "w6dmuhq3LUwC",
        "outputId": "07219b31-806f-4071-ff03-691137fe32b2"
      },
      "source": [
        "from sklearn.neighbors import KNeighborsClassifier\n",
        "classifier = KNeighborsClassifier(n_neighbors = 5, metric =\n",
        "'minkowski', p = 2)\n",
        "classifier.fit(X_train, y_train)"
      ],
      "execution_count": null,
      "outputs": [
        {
          "output_type": "execute_result",
          "data": {
            "text/plain": [
              "KNeighborsClassifier(algorithm='auto', leaf_size=30, metric='minkowski',\n",
              "                     metric_params=None, n_jobs=None, n_neighbors=5, p=2,\n",
              "                     weights='uniform')"
            ]
          },
          "metadata": {
            "tags": []
          },
          "execution_count": 4
        }
      ]
    },
    {
      "cell_type": "markdown",
      "metadata": {
        "id": "6FGxVRBuOdDY"
      },
      "source": [
        "**Predicting test set results**"
      ]
    },
    {
      "cell_type": "code",
      "metadata": {
        "colab": {
          "base_uri": "https://localhost:8080/"
        },
        "id": "Ln6YYj19OZYK",
        "outputId": "4b094bcc-a657-498d-d96c-40b75115da52"
      },
      "source": [
        "y_pred = classifier.predict(X_test)\n",
        "from sklearn.metrics import accuracy_score\n",
        "print(\"Accuracy Level :\",round(accuracy_score(y_test,y_pred),3))"
      ],
      "execution_count": null,
      "outputs": [
        {
          "output_type": "stream",
          "text": [
            "Accuracy Level : 0.958\n"
          ],
          "name": "stdout"
        }
      ]
    },
    {
      "cell_type": "code",
      "metadata": {
        "colab": {
          "base_uri": "https://localhost:8080/"
        },
        "id": "_8FxXA0dVjDd",
        "outputId": "edcb9108-a7cc-46f9-c9eb-f136e09e5dde"
      },
      "source": [
        "from sklearn.neighbors import KNeighborsClassifier\n",
        "classifier = KNeighborsClassifier(n_neighbors = 8, metric =\n",
        "'minkowski', p = 3)\n",
        "classifier.fit(X_train, y_train)\n",
        "y_pred = classifier.predict(X_test)\n",
        "from sklearn.metrics import accuracy_score\n",
        "print(\"Accuracy Level :\",round(accuracy_score(y_test,y_pred),3))"
      ],
      "execution_count": null,
      "outputs": [
        {
          "output_type": "stream",
          "text": [
            "Accuracy Level : 0.965\n"
          ],
          "name": "stdout"
        }
      ]
    }
  ]
}