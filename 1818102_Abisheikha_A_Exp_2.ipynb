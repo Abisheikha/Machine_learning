{
  "nbformat": 4,
  "nbformat_minor": 0,
  "metadata": {
    "colab": {
      "name": "1818102_Abisheikha A_Exp-2.ipynb",
      "provenance": [],
      "collapsed_sections": []
    },
    "kernelspec": {
      "name": "python3",
      "display_name": "Python 3"
    }
  },
  "cells": [
    {
      "cell_type": "markdown",
      "metadata": {
        "id": "Nb9dBUHLJJ9k"
      },
      "source": [
        "**Given the weight(in lbs) and foot size(in inches),predict whether the person is a male or female using Naive Bayes algorithm.**"
      ]
    },
    {
      "cell_type": "code",
      "metadata": {
        "id": "DKkxcRDn923Z",
        "colab": {
          "base_uri": "https://localhost:8080/"
        },
        "outputId": "29544b35-7809-4ae2-8d3e-96b6c6052fa5"
      },
      "source": [
        "from google.colab import drive\n",
        "drive.mount('/content/drive')"
      ],
      "execution_count": null,
      "outputs": [
        {
          "output_type": "stream",
          "text": [
            "Mounted at /content/drive\n"
          ],
          "name": "stdout"
        }
      ]
    },
    {
      "cell_type": "markdown",
      "metadata": {
        "id": "yrcVcqzDBeL3"
      },
      "source": [
        "**Importing Libraries**"
      ]
    },
    {
      "cell_type": "code",
      "metadata": {
        "id": "_NJ94Yzt5UD9"
      },
      "source": [
        "import numpy as np\n",
        "import pandas as pd"
      ],
      "execution_count": null,
      "outputs": []
    },
    {
      "cell_type": "markdown",
      "metadata": {
        "id": "xGlLgFwvBw0w"
      },
      "source": [
        "**Importing dataset**"
      ]
    },
    {
      "cell_type": "code",
      "metadata": {
        "colab": {
          "base_uri": "https://localhost:8080/",
          "height": 204
        },
        "id": "Mlq4jgjB5VIs",
        "outputId": "c6e1d758-c848-4645-c975-3918de4c4bd9"
      },
      "source": [
        "ds = pd.read_csv('/content/drive/My Drive/gender.csv')\n",
        "ds.head()"
      ],
      "execution_count": null,
      "outputs": [
        {
          "output_type": "execute_result",
          "data": {
            "text/html": [
              "<div>\n",
              "<style scoped>\n",
              "    .dataframe tbody tr th:only-of-type {\n",
              "        vertical-align: middle;\n",
              "    }\n",
              "\n",
              "    .dataframe tbody tr th {\n",
              "        vertical-align: top;\n",
              "    }\n",
              "\n",
              "    .dataframe thead th {\n",
              "        text-align: right;\n",
              "    }\n",
              "</style>\n",
              "<table border=\"1\" class=\"dataframe\">\n",
              "  <thead>\n",
              "    <tr style=\"text-align: right;\">\n",
              "      <th></th>\n",
              "      <th>Gender</th>\n",
              "      <th>Weight</th>\n",
              "      <th>Shoe_size</th>\n",
              "    </tr>\n",
              "  </thead>\n",
              "  <tbody>\n",
              "    <tr>\n",
              "      <th>0</th>\n",
              "      <td>Male</td>\n",
              "      <td>176.36960</td>\n",
              "      <td>17.460317</td>\n",
              "    </tr>\n",
              "    <tr>\n",
              "      <th>1</th>\n",
              "      <td>Male</td>\n",
              "      <td>154.32340</td>\n",
              "      <td>17.063492</td>\n",
              "    </tr>\n",
              "    <tr>\n",
              "      <th>2</th>\n",
              "      <td>Female</td>\n",
              "      <td>132.27720</td>\n",
              "      <td>15.079365</td>\n",
              "    </tr>\n",
              "    <tr>\n",
              "      <th>3</th>\n",
              "      <td>Female</td>\n",
              "      <td>119.04948</td>\n",
              "      <td>14.682540</td>\n",
              "    </tr>\n",
              "    <tr>\n",
              "      <th>4</th>\n",
              "      <td>Male</td>\n",
              "      <td>143.30030</td>\n",
              "      <td>15.873016</td>\n",
              "    </tr>\n",
              "  </tbody>\n",
              "</table>\n",
              "</div>"
            ],
            "text/plain": [
              "   Gender     Weight  Shoe_size\n",
              "0    Male  176.36960  17.460317\n",
              "1    Male  154.32340  17.063492\n",
              "2  Female  132.27720  15.079365\n",
              "3  Female  119.04948  14.682540\n",
              "4    Male  143.30030  15.873016"
            ]
          },
          "metadata": {
            "tags": []
          },
          "execution_count": 10
        }
      ]
    },
    {
      "cell_type": "markdown",
      "metadata": {
        "id": "sWCOP6ZcCAgI"
      },
      "source": [
        "**Categorising feature and target variables**"
      ]
    },
    {
      "cell_type": "code",
      "metadata": {
        "id": "XyWYX-mzBrIf"
      },
      "source": [
        "x=ds.iloc[:,[1,2]].values\n",
        "y=ds.iloc[:,[0]].values"
      ],
      "execution_count": null,
      "outputs": []
    },
    {
      "cell_type": "markdown",
      "metadata": {
        "id": "4DX3TmEuCL30"
      },
      "source": [
        "**Splitting into training and testing set**"
      ]
    },
    {
      "cell_type": "code",
      "metadata": {
        "id": "iP542g1q5a0Y"
      },
      "source": [
        "from sklearn.model_selection import train_test_split\n",
        "x_train,x_test,y_train,y_test=train_test_split(x,y,test_size=0.1,random_state=0)"
      ],
      "execution_count": null,
      "outputs": []
    },
    {
      "cell_type": "markdown",
      "metadata": {
        "id": "HyQpFM5FCWxM"
      },
      "source": [
        "**OUTPUT - Predicting female:**"
      ]
    },
    {
      "cell_type": "code",
      "metadata": {
        "colab": {
          "base_uri": "https://localhost:8080/"
        },
        "id": "HfOpfZj_BYto",
        "outputId": "ed247d64-36dd-47ef-83d9-8b4c64861d82"
      },
      "source": [
        "from sklearn.naive_bayes import GaussianNB\n",
        "classifier=GaussianNB()\n",
        "classifier=classifier.fit(x_train,y_train.ravel())\n",
        "print(classifier.predict([[121.25410,14.682540]]))"
      ],
      "execution_count": null,
      "outputs": [
        {
          "output_type": "stream",
          "text": [
            "['Female']\n"
          ],
          "name": "stdout"
        }
      ]
    },
    {
      "cell_type": "markdown",
      "metadata": {
        "id": "JB5LlJfHCg2z"
      },
      "source": [
        "**OUTPUT-Predicting male:**"
      ]
    },
    {
      "cell_type": "code",
      "metadata": {
        "colab": {
          "base_uri": "https://localhost:8080/"
        },
        "id": "7pI0VRPY5kI9",
        "outputId": "ff04c3ab-cf8f-4c36-c665-31cb272b4c39"
      },
      "source": [
        "from sklearn.naive_bayes import GaussianNB\n",
        "classifier=GaussianNB()\n",
        "classifier=classifier.fit(x_train , y_train.ravel())\n",
        "print(classifier.predict([[176.3696,17.46031746]]))"
      ],
      "execution_count": null,
      "outputs": [
        {
          "output_type": "stream",
          "text": [
            "['Male']\n"
          ],
          "name": "stdout"
        }
      ]
    }
  ]
}