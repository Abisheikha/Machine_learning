{
  "nbformat": 4,
  "nbformat_minor": 0,
  "metadata": {
    "colab": {
      "name": "1818102_ML_Exp-7.ipynb",
      "provenance": [],
      "collapsed_sections": []
    },
    "kernelspec": {
      "name": "python3",
      "display_name": "Python 3"
    }
  },
  "cells": [
    {
      "cell_type": "markdown",
      "metadata": {
        "id": "Ko4GZEHK4u1n"
      },
      "source": [
        "**Abisheikha A :)**"
      ]
    },
    {
      "cell_type": "markdown",
      "metadata": {
        "id": "eaTelBuy4nX4"
      },
      "source": [
        "**Single Layer Perceptron - write a python code to implement Perceptron in the Iris flower dataset. Strip the last 50 rows of the dataset that belongs to the class ‘Iris-virginica’ and use only 2 classes ‘Iris-setosa’ and ‘Iris-versicolor’ And eventually finding the optimal weights, find the line and classify all of these data points correctly.**"
      ]
    },
    {
      "cell_type": "code",
      "metadata": {
        "colab": {
          "base_uri": "https://localhost:8080/"
        },
        "id": "BqpwGkgd4l-S",
        "outputId": "409695ca-af50-479b-ba5c-a88db57970ea"
      },
      "source": [
        "import numpy as np\n",
        "import pandas as pd\n",
        "import matplotlib.pyplot as plt\n",
        "def load_data():\n",
        "    URL_='https://archive.ics.uci.edu/ml/machine-learning-databases/iris/iris.data'\n",
        "    data = pd.read_csv(URL_, header = None)\n",
        "    print(data)\n",
        "    #make the dataset linearly separable\n",
        "    data = data[:100]\n",
        "    data[4] = np.where(data.iloc[:, -1]=='Iris-setosa', 0, 1)\n",
        "    data = np.asmatrix(data, dtype = 'float64')\n",
        "    return data\n",
        "data = load_data()"
      ],
      "execution_count": 4,
      "outputs": [
        {
          "output_type": "stream",
          "text": [
            "       0    1    2    3               4\n",
            "0    5.1  3.5  1.4  0.2     Iris-setosa\n",
            "1    4.9  3.0  1.4  0.2     Iris-setosa\n",
            "2    4.7  3.2  1.3  0.2     Iris-setosa\n",
            "3    4.6  3.1  1.5  0.2     Iris-setosa\n",
            "4    5.0  3.6  1.4  0.2     Iris-setosa\n",
            "..   ...  ...  ...  ...             ...\n",
            "145  6.7  3.0  5.2  2.3  Iris-virginica\n",
            "146  6.3  2.5  5.0  1.9  Iris-virginica\n",
            "147  6.5  3.0  5.2  2.0  Iris-virginica\n",
            "148  6.2  3.4  5.4  2.3  Iris-virginica\n",
            "149  5.9  3.0  5.1  1.8  Iris-virginica\n",
            "\n",
            "[150 rows x 5 columns]\n"
          ],
          "name": "stdout"
        }
      ]
    },
    {
      "cell_type": "code",
      "metadata": {
        "colab": {
          "base_uri": "https://localhost:8080/",
          "height": 279
        },
        "id": "jrpFvXyU5TeI",
        "outputId": "0a60ef3b-fff2-494f-f400-bc829a43ba93"
      },
      "source": [
        "plt.scatter(np.array(data[:50,0]), np.array(data[:50,2]), marker='o', label='setosa')\n",
        "plt.scatter(np.array(data[50:,0]), np.array(data[50:,2]), marker='o', label='versicolor')\n",
        "plt.xlabel('petal length')\n",
        "plt.ylabel('sepal length')\n",
        "plt.legend()\n",
        "plt.show()"
      ],
      "execution_count": null,
      "outputs": [
        {
          "output_type": "display_data",
          "data": {
            "image/png": "[encoded data removed]",
            "text/plain": [
              "<Figure size 432x288 with 1 Axes>"
            ]
          },
          "metadata": {
            "tags": [],
            "needs_background": "light"
          }
        }
      ]
    },
    {
      "cell_type": "code",
      "metadata": {
        "id": "_oF4VoUj5jOZ"
      },
      "source": [
        "def perceptron(data, num_iter):\n",
        "    features = data[:, :-1]\n",
        "    labels = data[:, -1]\n",
        "    \n",
        "    # set weights to zero\n",
        "    w = np.zeros(shape=(1, features.shape[1]+1))\n",
        "    \n",
        "    misclassified_ = [] \n",
        "  \n",
        "    for epoch in range(num_iter):\n",
        "        misclassified = 0\n",
        "        for x, label in zip(features, labels):\n",
        "            x = np.insert(x,0,1)\n",
        "            y = np.dot(w, x.transpose())\n",
        "            target = 1.0 if (y > 0) else 0.0\n",
        "            \n",
        "            delta = (label.item(0,0) - target)\n",
        "            \n",
        "            if(delta): # misclassified\n",
        "                misclassified += 1\n",
        "                w += (delta * x)\n",
        "        \n",
        "        misclassified_.append(misclassified)\n",
        "    return (w, misclassified_)\n",
        "             \n",
        "num_iter = 10\n",
        "w, misclassified_ = perceptron(data, num_iter)\n"
      ],
      "execution_count": null,
      "outputs": []
    },
    {
      "cell_type": "code",
      "metadata": {
        "colab": {
          "base_uri": "https://localhost:8080/",
          "height": 279
        },
        "id": "nDAuy9yh5m5g",
        "outputId": "808b8ec8-3fc9-4da9-c62d-cafa7060c3f2"
      },
      "source": [
        "epochs = np.arange(1, num_iter+1)\n",
        "plt.plot(epochs, misclassified_)\n",
        "plt.xlabel('iterations')\n",
        "plt.ylabel('misclassified')\n",
        "plt.show()"
      ],
      "execution_count": null,
      "outputs": [
        {
          "output_type": "display_data",
          "data": {
            "image/png": "[encoded data removed]",
            "text/plain": [
              "<Figure size 432x288 with 1 Axes>"
            ]
          },
          "metadata": {
            "tags": [],
            "needs_background": "light"
          }
        }
      ]
    },
    {
      "cell_type": "code",
      "metadata": {
        "id": "GZehlfhU5rPv"
      },
      "source": [
        ""
      ],
      "execution_count": null,
      "outputs": []
    }
  ]
}